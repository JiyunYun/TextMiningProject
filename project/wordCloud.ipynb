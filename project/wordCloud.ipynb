{
 "cells": [
  {
   "cell_type": "code",
   "execution_count": 1,
   "metadata": {},
   "outputs": [
    {
     "name": "stdout",
     "output_type": "stream",
     "text": [
      "pygame 1.9.5\n",
      "Hello from the pygame community. https://www.pygame.org/contribute.html\n"
     ]
    }
   ],
   "source": [
    "from konlpy.tag import Twitter\n",
    "from collections import Counter\n",
    "\n",
    "import pytagcloud\n",
    "import webbrowser"
   ]
  },
  {
   "cell_type": "code",
   "execution_count": 2,
   "metadata": {},
   "outputs": [],
   "source": [
    "def saveWordCloud(wordInfo, filename):\n",
    "    \n",
    "    taglist = pytagcloud.make_tags(dict(wordInfo).items(), maxsize=80)\n",
    "    pytagcloud.create_tag_image(taglist, filename, size=(640, 480), fontname='korean', rectangular=False)\n",
    "    webbrowser.open(filename)"
   ]
  },
  {
   "cell_type": "code",
   "execution_count": 3,
   "metadata": {},
   "outputs": [
    {
     "name": "stderr",
     "output_type": "stream",
     "text": [
      "C:\\Users\\comdori\\Anaconda3\\lib\\site-packages\\konlpy\\tag\\_okt.py:16: UserWarning: \"Twitter\" has changed to \"Okt\" since KoNLPy v0.4.5.\n",
      "  warn('\"Twitter\" has changed to \"Okt\" since KoNLPy v0.4.5.')\n"
     ]
    },
    {
     "name": "stdout",
     "output_type": "stream",
     "text": [
      "전자담배: 10593\n",
      "사용: 4402\n",
      "제품: 3585\n",
      "기기: 2492\n",
      "담배: 2353\n",
      "때문: 1652\n",
      "하카: 1582\n",
      "배터리: 1553\n",
      "생각: 1504\n",
      "부산: 1464\n",
      "충전: 1431\n",
      "가지: 1404\n",
      "정말: 1403\n",
      "모드: 1395\n",
      "궐련: 1371\n",
      "흡연: 1358\n",
      "구매: 1356\n",
      "서면: 1251\n",
      "디자인: 1173\n",
      "연초: 1092\n",
      "매장: 1076\n",
      "정도: 1068\n",
      "코스: 1041\n",
      "느낌: 991\n",
      "냄새: 989\n",
      "부분: 933\n",
      "코일: 913\n",
      "바로: 901\n",
      "하나: 896\n",
      "추천: 889\n",
      "금연: 865\n",
      "가장: 850\n",
      "시간: 848\n",
      "탱크: 825\n",
      "방식: 818\n",
      "출시: 815\n"
     ]
    }
   ],
   "source": [
    "def main():\n",
    "    \n",
    "    openFileName = '전자담배_992_naver_blog.txt'\n",
    "    cloudImagePath = '전자담배_992_naver_blog.jpg'\n",
    "    \n",
    "    f = open(openFileName, 'r', encoding='utf-8')\n",
    "    data = f.read()\n",
    "    f.close()\n",
    "    \n",
    "    nlp = Twitter()\n",
    "    nouns = nlp.nouns(data)\n",
    "    count = Counter(nouns)\n",
    "    \n",
    "    \n",
    "    wordInfo = dict()\n",
    "    for tags, counts in count.most_common(50):\n",
    "        if (len(str(tags)) > 1):\n",
    "            wordInfo[tags] = counts\n",
    "            print(\"%s: %d\" % (tags, counts))\n",
    "            \n",
    "    saveWordCloud(wordInfo, cloudImagePath)\n",
    "    \n",
    "if __name__ ==\"__main__\":\n",
    "    main()"
   ]
  },
  {
   "cell_type": "code",
   "execution_count": null,
   "metadata": {},
   "outputs": [],
   "source": []
  }
 ],
 "metadata": {
  "kernelspec": {
   "display_name": "Python 3",
   "language": "python",
   "name": "python3"
  },
  "language_info": {
   "codemirror_mode": {
    "name": "ipython",
    "version": 3
   },
   "file_extension": ".py",
   "mimetype": "text/x-python",
   "name": "python",
   "nbconvert_exporter": "python",
   "pygments_lexer": "ipython3",
   "version": "3.7.1"
  }
 },
 "nbformat": 4,
 "nbformat_minor": 2
}
