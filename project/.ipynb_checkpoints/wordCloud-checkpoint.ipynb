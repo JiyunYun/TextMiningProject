{
 "cells": [
  {
   "cell_type": "code",
   "execution_count": 1,
   "metadata": {},
   "outputs": [
    {
     "name": "stdout",
     "output_type": "stream",
     "text": [
      "pygame 1.9.5\n",
      "Hello from the pygame community. https://www.pygame.org/contribute.html\n"
     ]
    }
   ],
   "source": [
    "from konlpy.tag import Twitter\n",
    "from collections import Counter\n",
    "\n",
    "import pytagcloud\n",
    "import webbrowser"
   ]
  },
  {
   "cell_type": "code",
   "execution_count": 2,
   "metadata": {},
   "outputs": [],
   "source": [
    "def saveWordCloud(wordInfo, filename):\n",
    "    \n",
    "    taglist = pytagcloud.make_tags(dict(wordInfo).items(), maxsize=80)\n",
    "    pytagcloud.create_tag_image(taglist, filename, size=(640, 480), fontname='korean', rectangular=False)\n",
    "    webbrowser.open(filename)"
   ]
  },
  {
   "cell_type": "code",
   "execution_count": 4,
   "metadata": {},
   "outputs": [
    {
     "name": "stdout",
     "output_type": "stream",
     "text": [
      "전자담배: 258\n",
      "정말: 156\n",
      "사용: 142\n",
      "생각: 126\n",
      "제품: 100\n",
      "흡연: 90\n",
      "담배: 85\n",
      "기기: 76\n",
      "금연: 71\n",
      "구매: 71\n",
      "차이: 67\n",
      "코스: 65\n",
      "때문: 62\n",
      "연초: 56\n",
      "냄새: 55\n",
      "슬림: 55\n",
      "가지: 52\n",
      "궐련: 50\n",
      "클라우드: 49\n",
      "마음: 48\n",
      "플러스: 47\n",
      "기능: 45\n",
      "매장: 41\n",
      "충전: 41\n",
      "상형: 39\n",
      "정도: 39\n",
      "시간: 39\n",
      "하나: 38\n",
      "배터리: 38\n",
      "용량: 35\n",
      "조금: 35\n",
      "바로: 34\n"
     ]
    }
   ],
   "source": [
    "def main():\n",
    "    \n",
    "    openFileName = 'vape_naver_blog.txt'\n",
    "    cloudImagePath = 'vape_wordCloud.jpg'\n",
    "    \n",
    "    f = open(openFileName, 'r', encoding='utf-8')\n",
    "    data = f.read()\n",
    "    f.close()\n",
    "    \n",
    "    nlp = Twitter()\n",
    "    nouns = nlp.nouns(data)\n",
    "    count = Counter(nouns)\n",
    "    \n",
    "    \n",
    "    wordInfo = dict()\n",
    "    for tags, counts in count.most_common(50):\n",
    "        if (len(str(tags)) > 1):\n",
    "            wordInfo[tags] = counts\n",
    "            print(\"%s: %d\" % (tags, counts))\n",
    "            \n",
    "    saveWordCloud(wordInfo, cloudImagePath)\n",
    "    \n",
    "if __name__ ==\"__main__\":\n",
    "    main()"
   ]
  }
 ],
 "metadata": {
  "kernelspec": {
   "display_name": "Python 3",
   "language": "python",
   "name": "python3"
  },
  "language_info": {
   "codemirror_mode": {
    "name": "ipython",
    "version": 3
   },
   "file_extension": ".py",
   "mimetype": "text/x-python",
   "name": "python",
   "nbconvert_exporter": "python",
   "pygments_lexer": "ipython3",
   "version": "3.7.1"
  }
 },
 "nbformat": 4,
 "nbformat_minor": 2
}
